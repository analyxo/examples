{
 "cells": [
  {
   "cell_type": "markdown",
   "metadata": {},
   "source": [
    "# How to Realize a World-Class Data Science Solution?\n",
    "\n",
    "- On the Importance of Data Preparation - Getting Ready for something Great\n",
    "- Contextual Data Exploration - How to Identify & Generate Business Value\n",
    "- <b>Technical Dataset Exploration - Finding the Best Way of Building a Model</b>\n",
    "- What You Ever Wanted to Know about Model Tuning\n",
    "- Unsupervised Methods in a Business Context - Time for Great Stories\n",
    "- Data is Becoming Big - How to Make Your Solution Efficient?\n",
    "- Operationalizing Your Data Science Solution - DevOps, GDPR & IT Sec.\n",
    "- Working Models, Stakeholder Management, and Steering of Data Science Projects."
   ]
  },
  {
   "cell_type": "markdown",
   "metadata": {},
   "source": [
    "# Part III: Technical Dataset Exploration - Finding the Best Way of Building a Model\n",
    "Dr. Emanuel Christner<br>\n",
    "Oct 8, 2018\n",
    "\n",
    "## Introduction\n",
    "A typical pitfall I'm seeing when working with fresh Junior Data Scientists or students is application of overcomplex modeling approaches for prediction problems - without taking into consideration characteristics of a dataset. This, in turn, often limits performance of trained models although following well-established receipts for cross-validation, regularization, feature selection, hyper parameter tuning, ...\n",
    "\n",
    "Imagine for instance a Kaggle Machine Learning competition. In my experience, it is relatively easy to reach top-30% of a leaderboard by simply ensembling some diverse e.g. gradient-boosted models and shallow neural networks. But even extensive model tuning won't help to improve much further. So what the top-guys typically are doing is obtaining a deep understanding of data structure allowing later on very efficient data preparation, feature engineering, and model setup (e.g. balancing data, building separate models for different data clusters, aggregating or removing redundant or noisy features...).\n",
    "\n",
    "Below you'll find an example how such technical dataset exploration could look like.  We'll use the publicly accessible WDBC dataset for this exercise (medical context, 30 abstract features, binary target label, data already cleaned).\n",
    "\n",
    "\n",
    "Looking forward to your feedback and ideas for alternate approaches!\n",
    "## Objectives:\n",
    "- Technical exploration of WDBC dataset.\n",
    "- Build a classification model that is able to predict the binary WDBC target variable."
   ]
  },
  {
   "cell_type": "code",
   "execution_count": 1,
   "metadata": {
    "collapsed": true
   },
   "outputs": [],
   "source": [
    "# Import libraries\n",
    "# linear algebra\n",
    "import numpy as np\n",
    "# data processing\n",
    "import pandas as pd\n",
    "# metrics\n",
    "from sklearn.metrics import accuracy_score\n",
    "from sklearn.metrics import precision_score\n",
    "from sklearn.metrics import recall_score\n",
    "# models\n",
    "from sklearn.linear_model import LinearRegression\n",
    "from sklearn.linear_model import LogisticRegression\n",
    "# plotting\n",
    "import matplotlib.pyplot as plt\n",
    "import seaborn as sns\n",
    "sns.set()\n",
    "# pca\n",
    "from sklearn.decomposition import PCA\n",
    "# dataset splitting\n",
    "from sklearn.model_selection import StratifiedKFold\n",
    "from sklearn.model_selection import train_test_split\n",
    "\n",
    "# Read dataset\n",
    "dataset_df=pd.read_csv('WDBC.csv')"
   ]
  },
  {
   "cell_type": "markdown",
   "metadata": {},
   "source": [
    "## Step 1: Get First Impression about Variables"
   ]
  },
  {
   "cell_type": "code",
   "execution_count": 2,
   "metadata": {
    "scrolled": true
   },
   "outputs": [
    {
     "data": {
      "text/plain": [
       "(569, 32)"
      ]
     },
     "execution_count": 2,
     "metadata": {},
     "output_type": "execute_result"
    }
   ],
   "source": [
    "dataset_df.shape"
   ]
  },
  {
   "cell_type": "code",
   "execution_count": 3,
   "metadata": {},
   "outputs": [
    {
     "data": {
      "text/html": [
       "<div>\n",
       "<style>\n",
       "    .dataframe thead tr:only-child th {\n",
       "        text-align: right;\n",
       "    }\n",
       "\n",
       "    .dataframe thead th {\n",
       "        text-align: left;\n",
       "    }\n",
       "\n",
       "    .dataframe tbody tr th {\n",
       "        vertical-align: top;\n",
       "    }\n",
       "</style>\n",
       "<table border=\"1\" class=\"dataframe\">\n",
       "  <thead>\n",
       "    <tr style=\"text-align: right;\">\n",
       "      <th></th>\n",
       "      <th>ID</th>\n",
       "      <th>Dep Flag</th>\n",
       "      <th>Feature_1</th>\n",
       "      <th>Feature_2</th>\n",
       "      <th>Feature_3</th>\n",
       "      <th>Feature_4</th>\n",
       "      <th>Feature_5</th>\n",
       "      <th>Feature_6</th>\n",
       "      <th>Feature_7</th>\n",
       "      <th>Feature_8</th>\n",
       "      <th>...</th>\n",
       "      <th>Feature_21</th>\n",
       "      <th>Feature_22</th>\n",
       "      <th>Feature_23</th>\n",
       "      <th>Feature_24</th>\n",
       "      <th>Feature_25</th>\n",
       "      <th>Feature_26</th>\n",
       "      <th>Feature_27</th>\n",
       "      <th>Feature_28</th>\n",
       "      <th>Feature_29</th>\n",
       "      <th>Feature_30</th>\n",
       "    </tr>\n",
       "  </thead>\n",
       "  <tbody>\n",
       "    <tr>\n",
       "      <th>0</th>\n",
       "      <td>842302</td>\n",
       "      <td>M</td>\n",
       "      <td>17.99</td>\n",
       "      <td>10.38</td>\n",
       "      <td>122.80</td>\n",
       "      <td>1001.0</td>\n",
       "      <td>0.11840</td>\n",
       "      <td>0.27760</td>\n",
       "      <td>0.3001</td>\n",
       "      <td>0.14710</td>\n",
       "      <td>...</td>\n",
       "      <td>25.38</td>\n",
       "      <td>17.33</td>\n",
       "      <td>184.60</td>\n",
       "      <td>2019.0</td>\n",
       "      <td>0.1622</td>\n",
       "      <td>0.6656</td>\n",
       "      <td>0.7119</td>\n",
       "      <td>0.2654</td>\n",
       "      <td>0.4601</td>\n",
       "      <td>0.11890</td>\n",
       "    </tr>\n",
       "    <tr>\n",
       "      <th>1</th>\n",
       "      <td>842517</td>\n",
       "      <td>M</td>\n",
       "      <td>20.57</td>\n",
       "      <td>17.77</td>\n",
       "      <td>132.90</td>\n",
       "      <td>1326.0</td>\n",
       "      <td>0.08474</td>\n",
       "      <td>0.07864</td>\n",
       "      <td>0.0869</td>\n",
       "      <td>0.07017</td>\n",
       "      <td>...</td>\n",
       "      <td>24.99</td>\n",
       "      <td>23.41</td>\n",
       "      <td>158.80</td>\n",
       "      <td>1956.0</td>\n",
       "      <td>0.1238</td>\n",
       "      <td>0.1866</td>\n",
       "      <td>0.2416</td>\n",
       "      <td>0.1860</td>\n",
       "      <td>0.2750</td>\n",
       "      <td>0.08902</td>\n",
       "    </tr>\n",
       "    <tr>\n",
       "      <th>2</th>\n",
       "      <td>84300903</td>\n",
       "      <td>M</td>\n",
       "      <td>19.69</td>\n",
       "      <td>21.25</td>\n",
       "      <td>130.00</td>\n",
       "      <td>1203.0</td>\n",
       "      <td>0.10960</td>\n",
       "      <td>0.15990</td>\n",
       "      <td>0.1974</td>\n",
       "      <td>0.12790</td>\n",
       "      <td>...</td>\n",
       "      <td>23.57</td>\n",
       "      <td>25.53</td>\n",
       "      <td>152.50</td>\n",
       "      <td>1709.0</td>\n",
       "      <td>0.1444</td>\n",
       "      <td>0.4245</td>\n",
       "      <td>0.4504</td>\n",
       "      <td>0.2430</td>\n",
       "      <td>0.3613</td>\n",
       "      <td>0.08758</td>\n",
       "    </tr>\n",
       "    <tr>\n",
       "      <th>3</th>\n",
       "      <td>84348301</td>\n",
       "      <td>M</td>\n",
       "      <td>11.42</td>\n",
       "      <td>20.38</td>\n",
       "      <td>77.58</td>\n",
       "      <td>386.1</td>\n",
       "      <td>0.14250</td>\n",
       "      <td>0.28390</td>\n",
       "      <td>0.2414</td>\n",
       "      <td>0.10520</td>\n",
       "      <td>...</td>\n",
       "      <td>14.91</td>\n",
       "      <td>26.50</td>\n",
       "      <td>98.87</td>\n",
       "      <td>567.7</td>\n",
       "      <td>0.2098</td>\n",
       "      <td>0.8663</td>\n",
       "      <td>0.6869</td>\n",
       "      <td>0.2575</td>\n",
       "      <td>0.6638</td>\n",
       "      <td>0.17300</td>\n",
       "    </tr>\n",
       "    <tr>\n",
       "      <th>4</th>\n",
       "      <td>84358402</td>\n",
       "      <td>M</td>\n",
       "      <td>20.29</td>\n",
       "      <td>14.34</td>\n",
       "      <td>135.10</td>\n",
       "      <td>1297.0</td>\n",
       "      <td>0.10030</td>\n",
       "      <td>0.13280</td>\n",
       "      <td>0.1980</td>\n",
       "      <td>0.10430</td>\n",
       "      <td>...</td>\n",
       "      <td>22.54</td>\n",
       "      <td>16.67</td>\n",
       "      <td>152.20</td>\n",
       "      <td>1575.0</td>\n",
       "      <td>0.1374</td>\n",
       "      <td>0.2050</td>\n",
       "      <td>0.4000</td>\n",
       "      <td>0.1625</td>\n",
       "      <td>0.2364</td>\n",
       "      <td>0.07678</td>\n",
       "    </tr>\n",
       "  </tbody>\n",
       "</table>\n",
       "<p>5 rows × 32 columns</p>\n",
       "</div>"
      ],
      "text/plain": [
       "         ID Dep Flag  Feature_1  Feature_2  Feature_3  Feature_4  Feature_5  \\\n",
       "0    842302        M      17.99      10.38     122.80     1001.0    0.11840   \n",
       "1    842517        M      20.57      17.77     132.90     1326.0    0.08474   \n",
       "2  84300903        M      19.69      21.25     130.00     1203.0    0.10960   \n",
       "3  84348301        M      11.42      20.38      77.58      386.1    0.14250   \n",
       "4  84358402        M      20.29      14.34     135.10     1297.0    0.10030   \n",
       "\n",
       "   Feature_6  Feature_7  Feature_8     ...      Feature_21  Feature_22  \\\n",
       "0    0.27760     0.3001    0.14710     ...           25.38       17.33   \n",
       "1    0.07864     0.0869    0.07017     ...           24.99       23.41   \n",
       "2    0.15990     0.1974    0.12790     ...           23.57       25.53   \n",
       "3    0.28390     0.2414    0.10520     ...           14.91       26.50   \n",
       "4    0.13280     0.1980    0.10430     ...           22.54       16.67   \n",
       "\n",
       "   Feature_23  Feature_24  Feature_25  Feature_26  Feature_27  Feature_28  \\\n",
       "0      184.60      2019.0      0.1622      0.6656      0.7119      0.2654   \n",
       "1      158.80      1956.0      0.1238      0.1866      0.2416      0.1860   \n",
       "2      152.50      1709.0      0.1444      0.4245      0.4504      0.2430   \n",
       "3       98.87       567.7      0.2098      0.8663      0.6869      0.2575   \n",
       "4      152.20      1575.0      0.1374      0.2050      0.4000      0.1625   \n",
       "\n",
       "   Feature_29  Feature_30  \n",
       "0      0.4601     0.11890  \n",
       "1      0.2750     0.08902  \n",
       "2      0.3613     0.08758  \n",
       "3      0.6638     0.17300  \n",
       "4      0.2364     0.07678  \n",
       "\n",
       "[5 rows x 32 columns]"
      ]
     },
     "execution_count": 3,
     "metadata": {},
     "output_type": "execute_result"
    }
   ],
   "source": [
    "dataset_df.head()"
   ]
  },
  {
   "cell_type": "code",
   "execution_count": 4,
   "metadata": {},
   "outputs": [
    {
     "data": {
      "text/plain": [
       "ID              int64\n",
       "Dep Flag       object\n",
       "Feature_1     float64\n",
       "Feature_2     float64\n",
       "Feature_3     float64\n",
       "Feature_4     float64\n",
       "Feature_5     float64\n",
       "Feature_6     float64\n",
       "Feature_7     float64\n",
       "Feature_8     float64\n",
       "Feature_9     float64\n",
       "Feature_10    float64\n",
       "Feature_11    float64\n",
       "Feature_12    float64\n",
       "Feature_13    float64\n",
       "Feature_14    float64\n",
       "Feature_15    float64\n",
       "Feature_16    float64\n",
       "Feature_17    float64\n",
       "Feature_18    float64\n",
       "Feature_19    float64\n",
       "Feature_20    float64\n",
       "Feature_21    float64\n",
       "Feature_22    float64\n",
       "Feature_23    float64\n",
       "Feature_24    float64\n",
       "Feature_25    float64\n",
       "Feature_26    float64\n",
       "Feature_27    float64\n",
       "Feature_28    float64\n",
       "Feature_29    float64\n",
       "Feature_30    float64\n",
       "dtype: object"
      ]
     },
     "execution_count": 4,
     "metadata": {},
     "output_type": "execute_result"
    }
   ],
   "source": [
    "dataset_df.dtypes"
   ]
  },
  {
   "cell_type": "code",
   "execution_count": 5,
   "metadata": {},
   "outputs": [
    {
     "data": {
      "text/plain": [
       "(array([], dtype=int64),)"
      ]
     },
     "execution_count": 5,
     "metadata": {},
     "output_type": "execute_result"
    }
   ],
   "source": [
    "# separate id, features, and target\n",
    "# id\n",
    "id = dataset_df['ID']\n",
    "\n",
    "# target, replace: B->0; M->1\n",
    "target = dataset_df['Dep Flag'].copy()\n",
    "target.replace({\"B\": 0, \"M\": 1}, inplace=True)\n",
    "\n",
    "# features\n",
    "features_df = dataset_df[dataset_df.columns.drop(['ID', 'Dep Flag'])]\n",
    "np.where(id.duplicated() == True) #no duplicate ids\n",
    "np.where(features_df.duplicated() == True) #no duplicate feature rows"
   ]
  },
  {
   "cell_type": "markdown",
   "metadata": {},
   "source": [
    "The dataset consists of an ID column, a binary target variable (which we want to predict), and 30 numeric features. Let's see which of those are useful for our prediction model."
   ]
  },
  {
   "cell_type": "markdown",
   "metadata": {},
   "source": [
    "## Step 2: Check for Missing Values and Outliers and Do some Basic Visualizations "
   ]
  },
  {
   "cell_type": "markdown",
   "metadata": {},
   "source": [
    "### Simple statistics"
   ]
  },
  {
   "cell_type": "code",
   "execution_count": 6,
   "metadata": {},
   "outputs": [
    {
     "data": {
      "text/html": [
       "<div>\n",
       "<style>\n",
       "    .dataframe thead tr:only-child th {\n",
       "        text-align: right;\n",
       "    }\n",
       "\n",
       "    .dataframe thead th {\n",
       "        text-align: left;\n",
       "    }\n",
       "\n",
       "    .dataframe tbody tr th {\n",
       "        vertical-align: top;\n",
       "    }\n",
       "</style>\n",
       "<table border=\"1\" class=\"dataframe\">\n",
       "  <thead>\n",
       "    <tr style=\"text-align: right;\">\n",
       "      <th></th>\n",
       "      <th>Feature_1</th>\n",
       "      <th>Feature_2</th>\n",
       "      <th>Feature_3</th>\n",
       "      <th>Feature_4</th>\n",
       "      <th>Feature_5</th>\n",
       "      <th>Feature_6</th>\n",
       "      <th>Feature_7</th>\n",
       "      <th>Feature_8</th>\n",
       "      <th>Feature_9</th>\n",
       "      <th>Feature_10</th>\n",
       "      <th>...</th>\n",
       "      <th>Feature_21</th>\n",
       "      <th>Feature_22</th>\n",
       "      <th>Feature_23</th>\n",
       "      <th>Feature_24</th>\n",
       "      <th>Feature_25</th>\n",
       "      <th>Feature_26</th>\n",
       "      <th>Feature_27</th>\n",
       "      <th>Feature_28</th>\n",
       "      <th>Feature_29</th>\n",
       "      <th>Feature_30</th>\n",
       "    </tr>\n",
       "  </thead>\n",
       "  <tbody>\n",
       "    <tr>\n",
       "      <th>count</th>\n",
       "      <td>569.000000</td>\n",
       "      <td>569.000000</td>\n",
       "      <td>569.000000</td>\n",
       "      <td>569.000000</td>\n",
       "      <td>569.000000</td>\n",
       "      <td>569.000000</td>\n",
       "      <td>569.000000</td>\n",
       "      <td>569.000000</td>\n",
       "      <td>569.000000</td>\n",
       "      <td>569.000000</td>\n",
       "      <td>...</td>\n",
       "      <td>569.000000</td>\n",
       "      <td>569.000000</td>\n",
       "      <td>569.000000</td>\n",
       "      <td>569.000000</td>\n",
       "      <td>569.000000</td>\n",
       "      <td>569.000000</td>\n",
       "      <td>569.000000</td>\n",
       "      <td>569.000000</td>\n",
       "      <td>569.000000</td>\n",
       "      <td>569.000000</td>\n",
       "    </tr>\n",
       "    <tr>\n",
       "      <th>mean</th>\n",
       "      <td>14.127292</td>\n",
       "      <td>19.289649</td>\n",
       "      <td>91.969033</td>\n",
       "      <td>654.889104</td>\n",
       "      <td>0.096360</td>\n",
       "      <td>0.104341</td>\n",
       "      <td>0.088799</td>\n",
       "      <td>0.048919</td>\n",
       "      <td>0.181162</td>\n",
       "      <td>0.062798</td>\n",
       "      <td>...</td>\n",
       "      <td>16.269190</td>\n",
       "      <td>25.677223</td>\n",
       "      <td>107.261213</td>\n",
       "      <td>880.583128</td>\n",
       "      <td>0.132369</td>\n",
       "      <td>0.254265</td>\n",
       "      <td>0.272188</td>\n",
       "      <td>0.114606</td>\n",
       "      <td>0.290076</td>\n",
       "      <td>0.083946</td>\n",
       "    </tr>\n",
       "    <tr>\n",
       "      <th>std</th>\n",
       "      <td>3.524049</td>\n",
       "      <td>4.301036</td>\n",
       "      <td>24.298981</td>\n",
       "      <td>351.914129</td>\n",
       "      <td>0.014064</td>\n",
       "      <td>0.052813</td>\n",
       "      <td>0.079720</td>\n",
       "      <td>0.038803</td>\n",
       "      <td>0.027414</td>\n",
       "      <td>0.007060</td>\n",
       "      <td>...</td>\n",
       "      <td>4.833242</td>\n",
       "      <td>6.146258</td>\n",
       "      <td>33.602542</td>\n",
       "      <td>569.356993</td>\n",
       "      <td>0.022832</td>\n",
       "      <td>0.157336</td>\n",
       "      <td>0.208624</td>\n",
       "      <td>0.065732</td>\n",
       "      <td>0.061867</td>\n",
       "      <td>0.018061</td>\n",
       "    </tr>\n",
       "    <tr>\n",
       "      <th>min</th>\n",
       "      <td>6.981000</td>\n",
       "      <td>9.710000</td>\n",
       "      <td>43.790000</td>\n",
       "      <td>143.500000</td>\n",
       "      <td>0.052630</td>\n",
       "      <td>0.019380</td>\n",
       "      <td>0.000000</td>\n",
       "      <td>0.000000</td>\n",
       "      <td>0.106000</td>\n",
       "      <td>0.049960</td>\n",
       "      <td>...</td>\n",
       "      <td>7.930000</td>\n",
       "      <td>12.020000</td>\n",
       "      <td>50.410000</td>\n",
       "      <td>185.200000</td>\n",
       "      <td>0.071170</td>\n",
       "      <td>0.027290</td>\n",
       "      <td>0.000000</td>\n",
       "      <td>0.000000</td>\n",
       "      <td>0.156500</td>\n",
       "      <td>0.055040</td>\n",
       "    </tr>\n",
       "    <tr>\n",
       "      <th>25%</th>\n",
       "      <td>11.700000</td>\n",
       "      <td>16.170000</td>\n",
       "      <td>75.170000</td>\n",
       "      <td>420.300000</td>\n",
       "      <td>0.086370</td>\n",
       "      <td>0.064920</td>\n",
       "      <td>0.029560</td>\n",
       "      <td>0.020310</td>\n",
       "      <td>0.161900</td>\n",
       "      <td>0.057700</td>\n",
       "      <td>...</td>\n",
       "      <td>13.010000</td>\n",
       "      <td>21.080000</td>\n",
       "      <td>84.110000</td>\n",
       "      <td>515.300000</td>\n",
       "      <td>0.116600</td>\n",
       "      <td>0.147200</td>\n",
       "      <td>0.114500</td>\n",
       "      <td>0.064930</td>\n",
       "      <td>0.250400</td>\n",
       "      <td>0.071460</td>\n",
       "    </tr>\n",
       "    <tr>\n",
       "      <th>50%</th>\n",
       "      <td>13.370000</td>\n",
       "      <td>18.840000</td>\n",
       "      <td>86.240000</td>\n",
       "      <td>551.100000</td>\n",
       "      <td>0.095870</td>\n",
       "      <td>0.092630</td>\n",
       "      <td>0.061540</td>\n",
       "      <td>0.033500</td>\n",
       "      <td>0.179200</td>\n",
       "      <td>0.061540</td>\n",
       "      <td>...</td>\n",
       "      <td>14.970000</td>\n",
       "      <td>25.410000</td>\n",
       "      <td>97.660000</td>\n",
       "      <td>686.500000</td>\n",
       "      <td>0.131300</td>\n",
       "      <td>0.211900</td>\n",
       "      <td>0.226700</td>\n",
       "      <td>0.099930</td>\n",
       "      <td>0.282200</td>\n",
       "      <td>0.080040</td>\n",
       "    </tr>\n",
       "    <tr>\n",
       "      <th>75%</th>\n",
       "      <td>15.780000</td>\n",
       "      <td>21.800000</td>\n",
       "      <td>104.100000</td>\n",
       "      <td>782.700000</td>\n",
       "      <td>0.105300</td>\n",
       "      <td>0.130400</td>\n",
       "      <td>0.130700</td>\n",
       "      <td>0.074000</td>\n",
       "      <td>0.195700</td>\n",
       "      <td>0.066120</td>\n",
       "      <td>...</td>\n",
       "      <td>18.790000</td>\n",
       "      <td>29.720000</td>\n",
       "      <td>125.400000</td>\n",
       "      <td>1084.000000</td>\n",
       "      <td>0.146000</td>\n",
       "      <td>0.339100</td>\n",
       "      <td>0.382900</td>\n",
       "      <td>0.161400</td>\n",
       "      <td>0.317900</td>\n",
       "      <td>0.092080</td>\n",
       "    </tr>\n",
       "    <tr>\n",
       "      <th>max</th>\n",
       "      <td>28.110000</td>\n",
       "      <td>39.280000</td>\n",
       "      <td>188.500000</td>\n",
       "      <td>2501.000000</td>\n",
       "      <td>0.163400</td>\n",
       "      <td>0.345400</td>\n",
       "      <td>0.426800</td>\n",
       "      <td>0.201200</td>\n",
       "      <td>0.304000</td>\n",
       "      <td>0.097440</td>\n",
       "      <td>...</td>\n",
       "      <td>36.040000</td>\n",
       "      <td>49.540000</td>\n",
       "      <td>251.200000</td>\n",
       "      <td>4254.000000</td>\n",
       "      <td>0.222600</td>\n",
       "      <td>1.058000</td>\n",
       "      <td>1.252000</td>\n",
       "      <td>0.291000</td>\n",
       "      <td>0.663800</td>\n",
       "      <td>0.207500</td>\n",
       "    </tr>\n",
       "  </tbody>\n",
       "</table>\n",
       "<p>8 rows × 30 columns</p>\n",
       "</div>"
      ],
      "text/plain": [
       "        Feature_1   Feature_2   Feature_3    Feature_4   Feature_5  \\\n",
       "count  569.000000  569.000000  569.000000   569.000000  569.000000   \n",
       "mean    14.127292   19.289649   91.969033   654.889104    0.096360   \n",
       "std      3.524049    4.301036   24.298981   351.914129    0.014064   \n",
       "min      6.981000    9.710000   43.790000   143.500000    0.052630   \n",
       "25%     11.700000   16.170000   75.170000   420.300000    0.086370   \n",
       "50%     13.370000   18.840000   86.240000   551.100000    0.095870   \n",
       "75%     15.780000   21.800000  104.100000   782.700000    0.105300   \n",
       "max     28.110000   39.280000  188.500000  2501.000000    0.163400   \n",
       "\n",
       "        Feature_6   Feature_7   Feature_8   Feature_9  Feature_10     ...      \\\n",
       "count  569.000000  569.000000  569.000000  569.000000  569.000000     ...       \n",
       "mean     0.104341    0.088799    0.048919    0.181162    0.062798     ...       \n",
       "std      0.052813    0.079720    0.038803    0.027414    0.007060     ...       \n",
       "min      0.019380    0.000000    0.000000    0.106000    0.049960     ...       \n",
       "25%      0.064920    0.029560    0.020310    0.161900    0.057700     ...       \n",
       "50%      0.092630    0.061540    0.033500    0.179200    0.061540     ...       \n",
       "75%      0.130400    0.130700    0.074000    0.195700    0.066120     ...       \n",
       "max      0.345400    0.426800    0.201200    0.304000    0.097440     ...       \n",
       "\n",
       "       Feature_21  Feature_22  Feature_23   Feature_24  Feature_25  \\\n",
       "count  569.000000  569.000000  569.000000   569.000000  569.000000   \n",
       "mean    16.269190   25.677223  107.261213   880.583128    0.132369   \n",
       "std      4.833242    6.146258   33.602542   569.356993    0.022832   \n",
       "min      7.930000   12.020000   50.410000   185.200000    0.071170   \n",
       "25%     13.010000   21.080000   84.110000   515.300000    0.116600   \n",
       "50%     14.970000   25.410000   97.660000   686.500000    0.131300   \n",
       "75%     18.790000   29.720000  125.400000  1084.000000    0.146000   \n",
       "max     36.040000   49.540000  251.200000  4254.000000    0.222600   \n",
       "\n",
       "       Feature_26  Feature_27  Feature_28  Feature_29  Feature_30  \n",
       "count  569.000000  569.000000  569.000000  569.000000  569.000000  \n",
       "mean     0.254265    0.272188    0.114606    0.290076    0.083946  \n",
       "std      0.157336    0.208624    0.065732    0.061867    0.018061  \n",
       "min      0.027290    0.000000    0.000000    0.156500    0.055040  \n",
       "25%      0.147200    0.114500    0.064930    0.250400    0.071460  \n",
       "50%      0.211900    0.226700    0.099930    0.282200    0.080040  \n",
       "75%      0.339100    0.382900    0.161400    0.317900    0.092080  \n",
       "max      1.058000    1.252000    0.291000    0.663800    0.207500  \n",
       "\n",
       "[8 rows x 30 columns]"
      ]
     },
     "execution_count": 6,
     "metadata": {},
     "output_type": "execute_result"
    }
   ],
   "source": [
    "features_df.describe()"
   ]
  },
  {
   "cell_type": "markdown",
   "metadata": {},
   "source": [
    "No obvious outliers. No missing values. (All values >=0). So we don't need any value imputation in this case."
   ]
  },
  {
   "cell_type": "markdown",
   "metadata": {},
   "source": [
    "### Data Normalization"
   ]
  },
  {
   "cell_type": "markdown",
   "metadata": {},
   "source": [
    "First of all, let's normalize our features. This will help interpreting/comparing numbers and visualizations and we'll have data in the right form for e.g. PCA and logistic regression."
   ]
  },
  {
   "cell_type": "code",
   "execution_count": 7,
   "metadata": {
    "collapsed": true
   },
   "outputs": [],
   "source": [
    "#normalize features\n",
    "features_scal_df = ((features_df - np.mean(features_df)) / \n",
    "                    np.std(features_df))"
   ]
  },
  {
   "cell_type": "markdown",
   "metadata": {},
   "source": [
    "### Visual Inspection of Feature Distributions"
   ]
  },
  {
   "cell_type": "markdown",
   "metadata": {},
   "source": [
    "Remark: Set show_all=True to visualize results for all features."
   ]
  },
  {
   "cell_type": "code",
   "execution_count": 8,
   "metadata": {},
   "outputs": [
    {
     "data": {
      "image/png": "[encoded data removed]",
      "text/plain": [
       "<matplotlib.figure.Figure at 0x1fbec465400>"
      ]
     },
     "metadata": {},
     "output_type": "display_data"
    },
    {
     "data": {
      "image/png": "[encoded data removed]",
      "text/plain": [
       "<matplotlib.figure.Figure at 0x1fbec893c88>"
      ]
     },
     "metadata": {},
     "output_type": "display_data"
    }
   ],
   "source": [
    "# Visualize distributions\n",
    "show_all = False # change to 'True' to plot all features\n",
    "if show_all == True:\n",
    "    for col in features_df.columns.values:\n",
    "        plt.figure()\n",
    "        plt.hist(features_df[col][target == 0], 20, alpha=0.5)\n",
    "        plt.hist(features_df[col][target == 1], 20, alpha=0.5)\n",
    "        plt.title(col)\n",
    "        plt.legend(['B', 'M'])\n",
    "        plt.xlabel('feature value')\n",
    "        plt.ylabel('occurrence')    \n",
    "        plt.show()\n",
    "else:\n",
    "        plt.figure()\n",
    "        plt.hist(features_df['Feature_28'][target == 0], 20, alpha=0.5)\n",
    "        plt.hist(features_df['Feature_28'][target == 1], 20, alpha=0.5)\n",
    "        plt.title('Feature_28 (example)')\n",
    "        plt.legend(['B', 'M'])\n",
    "        plt.xlabel('feature value')\n",
    "        plt.ylabel('occurrence')    \n",
    "        plt.show()\n",
    "        \n",
    "        plt.figure()\n",
    "        plt.hist(features_df['Feature_16'][target == 0], 20, alpha=0.5)\n",
    "        plt.hist(features_df['Feature_16'][target == 1], 20, alpha=0.5)\n",
    "        plt.title('Feature_16 (example)')\n",
    "        plt.legend(['B', 'M'])\n",
    "        plt.xlabel('feature value')\n",
    "        plt.ylabel('occurrence')    \n",
    "        plt.show()        "
   ]
  },
  {
   "cell_type": "markdown",
   "metadata": {},
   "source": [
    "Many of the features are closely related to the target label (e.g. Feature_28). Higher feature values typically correspond to class M. Because of this strong relation between target and even single features, it should be possible to predict the target with high accuracy.\n",
    "\n",
    "The histograms for the different features confirm that there are no clear outliers. A few data points with particularly high values (e.g. Feature_16 around 0.13) could be checked more carefully, if some technical information with respect to the features was provided. However, those few data points are no problem for training/evaluating a model."
   ]
  },
  {
   "cell_type": "markdown",
   "metadata": {},
   "source": [
    "### Ruling Out a Relation between Feature Values with ID/index"
   ]
  },
  {
   "cell_type": "markdown",
   "metadata": {},
   "source": [
    "Always good to check relation between feature values and index. In some cases this helps identifying temporal sampling issues, which can e.g. results in over-confident models."
   ]
  },
  {
   "cell_type": "code",
   "execution_count": 9,
   "metadata": {},
   "outputs": [
    {
     "data": {
      "image/png": "[encoded data removed]",
      "text/plain": [
       "<matplotlib.figure.Figure at 0x1fbec423400>"
      ]
     },
     "metadata": {},
     "output_type": "display_data"
    }
   ],
   "source": [
    "# Check feature-index relation\n",
    "show_all = False\n",
    "if show_all == True:\n",
    "    for col in features_df.columns.values:\n",
    "        plt.figure()\n",
    "        plt.plot(features_df[col])\n",
    "        plt.title(col)\n",
    "        plt.xlabel('index')\n",
    "        plt.ylabel('feature value')    \n",
    "        plt.show()\n",
    "else:\n",
    "        plt.figure()\n",
    "        plt.plot(features_df['Feature_28'])\n",
    "        plt.title('Feature_28 (example)')\n",
    "        plt.xlabel('index')\n",
    "        plt.ylabel('feature value')    \n",
    "        plt.show()"
   ]
  },
  {
   "cell_type": "markdown",
   "metadata": {},
   "source": [
    "Some of the features show slightly higher values for index 0..50. However, there is no clear overall relation between feature values and index."
   ]
  },
  {
   "cell_type": "markdown",
   "metadata": {},
   "source": [
    "## Step 3: Feature-Target and Feature-Feature relations"
   ]
  },
  {
   "cell_type": "markdown",
   "metadata": {},
   "source": [
    "### Choosing a Metric"
   ]
  },
  {
   "cell_type": "code",
   "execution_count": 10,
   "metadata": {
    "scrolled": true
   },
   "outputs": [
    {
     "name": "stdout",
     "output_type": "stream",
     "text": [
      "M/(M+B) = 0.37\n"
     ]
    }
   ],
   "source": [
    "print ('M/(M+B) =', \"{0:.2f}\".format(sum(target)/len(target)))"
   ]
  },
  {
   "cell_type": "markdown",
   "metadata": {},
   "source": [
    "The target is not very unbalanced. For this purely technical reason, I'm going to use accuracy rate or misclassification rate = (1 - accuracy rate) as metric for model selection and evaluation in this excercise.\n",
    "\n",
    "In practice, the metric will take into account also the context of an analysis. For this WDBC dataset, for instance, it could make sense to optimize on recall or precision given the medical context of the data."
   ]
  },
  {
   "cell_type": "markdown",
   "metadata": {},
   "source": [
    "### Simple Naive Baseline Model"
   ]
  },
  {
   "cell_type": "code",
   "execution_count": 11,
   "metadata": {},
   "outputs": [
    {
     "name": "stdout",
     "output_type": "stream",
     "text": [
      "Accuracy rate if all predictions are B: 0.63 (=B/(M+B))\n"
     ]
    }
   ],
   "source": [
    "baseline = accuracy_score(target, np.zeros(target.shape))\n",
    "print ('Accuracy rate if all predictions are B:',\n",
    "       \"{0:.2f}\".format(baseline), \"(=B/(M+B))\")"
   ]
  },
  {
   "cell_type": "markdown",
   "metadata": {},
   "source": [
    "Because 63% of the target corresponds to class B, the accuracy rate is 0.63 if predicting/guessing B for all samples. A predictive model should do much better than this baseline."
   ]
  },
  {
   "cell_type": "markdown",
   "metadata": {},
   "source": [
    "### Feature-Target Relations"
   ]
  },
  {
   "cell_type": "markdown",
   "metadata": {},
   "source": [
    "Create a logistic regression model for each feature to understand how closely each feature is related to the target."
   ]
  },
  {
   "cell_type": "code",
   "execution_count": 12,
   "metadata": {},
   "outputs": [
    {
     "data": {
      "image/png": "[encoded data removed]",
      "text/plain": [
       "<matplotlib.figure.Figure at 0x1fbecbfdf28>"
      ]
     },
     "metadata": {},
     "output_type": "display_data"
    },
    {
     "name": "stdout",
     "output_type": "stream",
     "text": [
      "blue line: baseline\n",
      "Feature_24, accuracy rate: 0.92\n",
      "Feature_24, misclassification rate: 0.08\n"
     ]
    }
   ],
   "source": [
    "# feature-target-relations for all features\n",
    "# train logistic regression models for each feature\n",
    "model_logreg_1 = LogisticRegression()\n",
    "accuracy_rate = []\n",
    "for col in features_scal_df.columns.values:\n",
    "    model_logreg_1.fit(features_scal_df[col].to_frame(), target)\n",
    "    pred_train = model_logreg_1.predict(features_scal_df[col].to_frame())\n",
    "    accuracy_rate.append(accuracy_score(pred_train, target))\n",
    "\n",
    "# sort features according to respective accuracy rate of prediction   \n",
    "indices = np.argsort(accuracy_rate)[::-1]\n",
    "\n",
    "# plot accuracy rates for features\n",
    "plt.figure()\n",
    "plt.title(\"Predictive power of features\")\n",
    "plt.bar(range(features_scal_df.shape[1]), np.array(accuracy_rate)[indices],\n",
    "       color=\"r\", align=\"center\")\n",
    "plt.plot([-1, 30], [baseline, baseline])\n",
    "plt.xticks(range(features_scal_df.shape[1]), indices+1)\n",
    "plt.xlim([-1, features_scal_df.shape[1]])\n",
    "plt.ylim([0, 1])\n",
    "plt.xlabel('Feature')\n",
    "plt.ylabel('Accuracy rate')\n",
    "plt.show()\n",
    "print ('blue line: baseline')\n",
    "\n",
    "print ('Feature_24, accuracy rate:', \"{0:.2f}\".format(accuracy_rate[23]))\n",
    "print ('Feature_24, misclassification rate:', \"{0:.2f}\".format(\n",
    "    1-accuracy_rate[23]))"
   ]
  },
  {
   "cell_type": "markdown",
   "metadata": {},
   "source": [
    "Figure above shows accuracy rates of the 30 logistic regression models - each of them trained with one single feature. Some very strong features allow efficiently predicting the target class (e.g. Feature_24: misclassification rate=0.08; training error - no CV)."
   ]
  },
  {
   "cell_type": "markdown",
   "metadata": {},
   "source": [
    "### Feature-Feature Relations"
   ]
  },
  {
   "cell_type": "code",
   "execution_count": 13,
   "metadata": {},
   "outputs": [
    {
     "data": {
      "image/png": "[encoded data removed]",
      "text/plain": [
       "<matplotlib.figure.Figure at 0x1fbecacf898>"
      ]
     },
     "metadata": {},
     "output_type": "display_data"
    }
   ],
   "source": [
    "# feature-feature-relations\n",
    "# correlation matrix\n",
    "correlation_matrix = features_df.corr().values\n",
    "\n",
    "#mask\n",
    "mask = np.zeros_like(correlation_matrix, dtype=np.bool)\n",
    "mask[np.triu_indices_from(mask)] = True\n",
    "\n",
    "#plot\n",
    "f, ax = plt.subplots(figsize=(11, 9))\n",
    "cmap = sns.diverging_palette(220, 10, as_cmap=True)\n",
    "sns.heatmap(correlation_matrix, mask=mask, cmap=cmap, vmax=1, vmin=0.9,\n",
    "            #min=0.9 chosen because no strong negative correlation\n",
    "            #between features in this daaset\n",
    "            square=True, linewidths=.5, cbar_kws={\"shrink\": .5})\n",
    "plt.xticks(np.array(range(0,30))+0.5, range(1,31))\n",
    "plt.yticks(np.array(range(0,30))+0.5, range(30,0,-1))\n",
    "plt.show()\n"
   ]
  },
  {
   "cell_type": "markdown",
   "metadata": {},
   "source": [
    "Some of the features are strongly correlated (R>0.99): 1,3; 1,4; 21,23; 21,24. Let's visualize them:"
   ]
  },
  {
   "cell_type": "code",
   "execution_count": 14,
   "metadata": {},
   "outputs": [
    {
     "data": {
      "image/png": "[encoded data removed]",
      "text/plain": [
       "<matplotlib.figure.Figure at 0x1fbecc175c0>"
      ]
     },
     "metadata": {},
     "output_type": "display_data"
    }
   ],
   "source": [
    "# Visualize correlated features I (1,3; 21,23)\n",
    "plt.figure()\n",
    "plt.scatter(features_df['Feature_21'], features_df['Feature_23'])\n",
    "plt.scatter(features_df['Feature_1'], features_df['Feature_3'])\n",
    "plt.legend(['Feature_23/Feature_21', 'Feature_3/Feature_1'])\n",
    "plt.show()\n",
    "# np.corrcoef(features_df['Feature_21'], features_df['Feature_23'])[0][1]\n",
    "# R=0.9937\n",
    "# np.corrcoef(features_df['Feature_1'], features_df['Feature_3'])[0][1]\n",
    "# R=0.9979"
   ]
  },
  {
   "cell_type": "markdown",
   "metadata": {},
   "source": [
    "Feature_1 is closely linearly related to Feature_3. Feature_3 could reflect measurements from an additional sensor or an imprecise linear transformation of Feature_1.\n",
    "\n",
    "Also, Feature_21 and Feature_23 show an almost identical linear relation with same slope as found for Feature_3 and Feature_1. This points to a transformation rather than to redundant measurements. Slight scatter implies that this transformation involves some uncertainty."
   ]
  },
  {
   "cell_type": "code",
   "execution_count": 15,
   "metadata": {},
   "outputs": [
    {
     "data": {
      "image/png": "[encoded data removed]",
      "text/plain": [
       "<matplotlib.figure.Figure at 0x1fbec94cc88>"
      ]
     },
     "metadata": {},
     "output_type": "display_data"
    }
   ],
   "source": [
    "# Visualize correlated features II (1,4; 21,24)\n",
    "plt.figure()\n",
    "plt.scatter(features_df['Feature_21'], np.sqrt(features_df['Feature_24']))\n",
    "plt.scatter(features_df['Feature_1'], np.sqrt(features_df['Feature_4']))\n",
    "plt.legend(['sqrt(Feature_24)/Feature_21', 'sqrt(Feature_4)/Feature_1'])\n",
    "plt.show()\n",
    "# np.corrcoef(features_df['Feature_21'],np.sqrt(features_df['Feature_24']))[0][1]\n",
    "# R=0.9988\n",
    "# np.corrcoef(features_df['Feature_1'],np.sqrt(features_df['Feature_4']))[0][1]\n",
    "# R=0.9994"
   ]
  },
  {
   "cell_type": "markdown",
   "metadata": {},
   "source": [
    "Feature_1 is closely quadratically related to Feature_4 (note: Fig. shows square root for Feature_4 and Feature_24).\n",
    "\n",
    "Feature_21 and Feature_24 show an almost identical quadratic relation as Feature_1 and Feature_4. This again points to computed features."
   ]
  },
  {
   "cell_type": "markdown",
   "metadata": {},
   "source": [
    "### Remove Redundant Features"
   ]
  },
  {
   "cell_type": "markdown",
   "metadata": {},
   "source": [
    "Redundant features bear a risk of deteriorating model performance. To reduce redundancy, I'm going to combine the linearly related features: Feature_1,Feature_3 and Feature_21,Feature_23.\n",
    "\n",
    "For the moment, I'll keep the quadratic features (maybe they were intentionally included as higher-order terms for logistic regression). "
   ]
  },
  {
   "cell_type": "code",
   "execution_count": 16,
   "metadata": {
    "collapsed": true
   },
   "outputs": [],
   "source": [
    "# combine strongly correlated features: (1) linear transformation, then (2) averaging\n",
    "# linear model for f1,f3\n",
    "model_linreg_1 = LinearRegression()\n",
    "model_linreg_1.fit(features_scal_df['Feature_1'].to_frame(),\n",
    "        features_scal_df['Feature_3'].to_frame())\n",
    "model_linreg_1.coef_#6.88040029\n",
    "model_linreg_1.intercept_#-5.23238879\n",
    "\n",
    "# linear model for f21,f23\n",
    "model_linreg_2 = LinearRegression()\n",
    "model_linreg_2.fit(features_scal_df['Feature_21'].to_frame(),\n",
    "        features_scal_df['Feature_23'].to_frame())\n",
    "model_linreg_2.coef_#6.90863713\n",
    "model_linreg_2.intercept_#-5.13671616\n",
    "\n",
    "# use averages as new features\n",
    "features_scal_df['Feature_31'] = (0.5 * features_scal_df['Feature_3'].\n",
    "        to_frame() + 0.5 * model_linreg_1.predict(\n",
    "        features_scal_df['Feature_1'].to_frame()))\n",
    "features_scal_df['Feature_32'] = (0.5 * features_scal_df['Feature_23'].\n",
    "        to_frame() + 0.5 * model_linreg_2.predict(\n",
    "        features_scal_df['Feature_21'].to_frame()))\n",
    "\n",
    "# drop old features\n",
    "features_scal_df.drop(['Feature_1', 'Feature_3',\n",
    "        'Feature_21', 'Feature_23'], axis=1, inplace=True)"
   ]
  },
  {
   "cell_type": "markdown",
   "metadata": {},
   "source": [
    "## Step 4: Quick Impression on Overall Structure of the Dataset"
   ]
  },
  {
   "cell_type": "markdown",
   "metadata": {},
   "source": [
    "A nice way of getting a first qualitative impression on the overall data structure (clusters, noise) is unsupervised clustering. A very quick alternate approach, which I'll use here, is projecting the features onto two easy-to-visualize principal components."
   ]
  },
  {
   "cell_type": "markdown",
   "metadata": {},
   "source": [
    "### PCA: Project Data onto Principal Components"
   ]
  },
  {
   "cell_type": "code",
   "execution_count": 17,
   "metadata": {},
   "outputs": [
    {
     "data": {
      "image/png": "[encoded data removed]",
      "text/plain": [
       "<matplotlib.figure.Figure at 0x1fbec8c8b00>"
      ]
     },
     "metadata": {},
     "output_type": "display_data"
    }
   ],
   "source": [
    "# principal component decomposition\n",
    "pcan = PCA(n_components=2)\n",
    "pcan.fit(features_scal_df)\n",
    "comp = pcan.transform(features_scal_df)\n",
    "\n",
    "#plot\n",
    "ind_B=np.where(target == 0)\n",
    "ind_M=np.where(target == 1)\n",
    "plt.figure()\n",
    "plt.scatter(comp[ind_B, 0], comp[ind_B, 1])\n",
    "plt.scatter(comp[ind_M, 0], comp[ind_M, 1])\n",
    "plt.legend(['B', 'M'])\n",
    "plt.xlabel('principal component 1')\n",
    "plt.ylabel('principal component 2')\n",
    "plt.show()"
   ]
  },
  {
   "cell_type": "markdown",
   "metadata": {},
   "source": [
    "The decomposed data is nicely separated into two clusters. A very simple logistic regression model should be able to find a linear decision boundary that efficiently separates both clusters:"
   ]
  },
  {
   "cell_type": "code",
   "execution_count": 18,
   "metadata": {},
   "outputs": [
    {
     "name": "stdout",
     "output_type": "stream",
     "text": [
      "Misclassification rate for logistic regression model: 0.051 +- 0.015 (5-fold cv)\n"
     ]
    }
   ],
   "source": [
    "# logistic regression model based on the two principal components\n",
    "# split data into five subsets for cross validation (cv)\n",
    "kfold = StratifiedKFold(n_splits=5, \n",
    "                            random_state=2017, \n",
    "                            shuffle=True)    \n",
    "\n",
    "model_logreg_2 = LogisticRegression(C=10) #C=10: no regularization\n",
    "cv_single=[];\n",
    "for i, (ind_train, ind_val) in enumerate(kfold.split(comp, target)):\n",
    "    X_train, X_val = comp[ind_train, :], comp[ind_val, :]\n",
    "    y_train, y_val = target[ind_train], target[ind_val]\n",
    "    # train model\n",
    "    model_logreg_2.fit(X_train, y_train)\n",
    "    # predict for validation set\n",
    "    y_pred = model_logreg_2.predict(X_val)\n",
    "    # calculate misclassification rate\n",
    "    cv_single.append(1 - accuracy_score(y_val, y_pred))\n",
    "print ('Misclassification rate for logistic regression model:',\n",
    "       \"{0:.3f}\".format(np.mean(cv_single)), '+-',\n",
    "       \"{0:.3f}\".format(np.std(cv_single)), '(5-fold cv)')"
   ]
  },
  {
   "cell_type": "markdown",
   "metadata": {},
   "source": [
    "The misclassification rate of a logistic regression model trained on the two principal components is 0.051 for unseen data (5-fold cross validation (cv)). The standard deviation between the five folds is 0.015."
   ]
  },
  {
   "cell_type": "markdown",
   "metadata": {},
   "source": [
    "## Step 5: Final Model"
   ]
  },
  {
   "cell_type": "markdown",
   "metadata": {},
   "source": [
    "### Model Selection"
   ]
  },
  {
   "cell_type": "markdown",
   "metadata": {},
   "source": [
    "Many of the features show a strong relation with the target values (see step 2, step 3).\n",
    "\n",
    "The highly predictive, linearly separable structure after projection onto two principal components (step 4) implies that non-linearity of features, feature-feature relations, and noise play a minor role for predicting the target label. \n",
    "\n",
    "For these reasons, I'm going to use 'simple' logistic regression for the final model. I'll include all features and apply regularization to avoid overfitting."
   ]
  },
  {
   "cell_type": "markdown",
   "metadata": {},
   "source": [
    "### Splitting Data into Train, Cross-Validation, and Test Set"
   ]
  },
  {
   "cell_type": "markdown",
   "metadata": {},
   "source": [
    "I split the data into 5 pieces:<br>\n",
    "80%: training+cv set.<br>\n",
    "20%: test set."
   ]
  },
  {
   "cell_type": "code",
   "execution_count": 19,
   "metadata": {
    "collapsed": true
   },
   "outputs": [],
   "source": [
    "# 4:1 (train/cv)-test-split\n",
    "X_train_cv, X_test, y_train_cv, y_test = train_test_split(features_scal_df, target,\n",
    "                                                    test_size=0.2,\n",
    "                                                    random_state=2017,\n",
    "                                                    stratify=target)\n",
    "X_train_cv.reset_index(drop=True, inplace=True)\n",
    "X_test.reset_index(drop=True, inplace=True)\n",
    "y_train_cv.reset_index(drop=True, inplace=True)\n",
    "y_test.reset_index(drop=True, inplace=True)"
   ]
  },
  {
   "cell_type": "markdown",
   "metadata": {},
   "source": [
    "### Tuning of Regularization Parameter\n",
    "To tune the model, I use 4-fold cv."
   ]
  },
  {
   "cell_type": "code",
   "execution_count": 20,
   "metadata": {},
   "outputs": [
    {
     "data": {
      "image/png": "[encoded data removed]",
      "text/plain": [
       "<matplotlib.figure.Figure at 0x1fbece18358>"
      ]
     },
     "metadata": {},
     "output_type": "display_data"
    },
    {
     "name": "stdout",
     "output_type": "stream",
     "text": [
      "Misclassification rate with 'reg' = 16 :  0.017 +- 0.017 (4-fold cv)\n"
     ]
    }
   ],
   "source": [
    "# model tuning\n",
    "# split data into subsets for cv\n",
    "kfold = StratifiedKFold(n_splits=4, \n",
    "                            random_state=2017, \n",
    "                            shuffle=True)    \n",
    "reg = [] #regularization parameter\n",
    "cv_all = []\n",
    "cv_all_std = []\n",
    "train_all = []\n",
    "#iterate over different regularization parameters\n",
    "for c in range(1, 100, 5):\n",
    "    reg.append(c)    \n",
    "    reg_inv=1 / reg[-1]\n",
    "    model_logreg_3 = LogisticRegression(penalty='l2', C=reg_inv)\n",
    "    cv_single = [];\n",
    "    train_single = [];\n",
    "    #4-fold cv\n",
    "    for i, (ind_train, ind_val) in enumerate(kfold.split(X_train_cv, y_train_cv)):\n",
    "        X_train, X_val = X_train_cv.loc[ind_train], X_train_cv.loc[ind_val]\n",
    "        y_train, y_val = y_train_cv[ind_train], y_train_cv[ind_val]\n",
    "        #train model\n",
    "        model_logreg_3.fit(X_train, y_train)\n",
    "        #predict for validation set\n",
    "        y_pred_val = model_logreg_3.predict(X_val)\n",
    "        #predict for training set\n",
    "        y_pred_train = model_logreg_3.predict(X_train)\n",
    "        #calculate misclassification rates\n",
    "        cv_single.append(1 - accuracy_score(y_val, y_pred_val))\n",
    "        train_single.append(1 - accuracy_score(y_train, y_pred_train))\n",
    "    #calculate mean values from cv-folds    \n",
    "    cv_all.append(np.mean(cv_single))\n",
    "    cv_all_std.append(np.std(cv_single))\n",
    "    train_all.append(np.mean(train_single))\n",
    "\n",
    "#plot results\n",
    "plt.title('Model tuning')\n",
    "plt.figure\n",
    "plt.plot(reg, cv_all)    \n",
    "plt.plot(reg, train_all)\n",
    "plt.legend(['cv', 'train'])\n",
    "plt.xlabel('Regularization')\n",
    "plt.ylabel('Misclassification rate')\n",
    "plt.show()    \n",
    "\n",
    "#print misclassification rate\n",
    "print ('Misclassification rate with \\'reg\\' =', reg[3], ': ', \"{0:.3f}\".format(cv_all[3]),\n",
    "       '+-', \"{0:.3f}\".format(cv_all_std[3]), '(4-fold cv)')"
   ]
  },
  {
   "cell_type": "markdown",
   "metadata": {},
   "source": [
    "'reg'=0..16: high variance regime<br>\n",
    "'reg'=16..: high bias regime\n",
    "\n",
    "I choose a regularization parameter of 'reg'=16 (relatively strong regularization), which reflects an optimal tradeoff between model bias and variance. For this 'reg'=16, the misclassification rate is 0.017 (4-fold cv). The standard deviation of folds is in the same order of magnitude (0.017). Because of the tuning, the misclassification rate derived from cv might be a bit to optimistic. So we'll use the untouched test set for a completely independent validation."
   ]
  },
  {
   "cell_type": "markdown",
   "metadata": {},
   "source": [
    "### Training of the Final Model and Validation against Test Set"
   ]
  },
  {
   "cell_type": "markdown",
   "metadata": {},
   "source": [
    "For training the final model, we use the whole train/cv data and 'reg'=16."
   ]
  },
  {
   "cell_type": "code",
   "execution_count": 21,
   "metadata": {},
   "outputs": [
    {
     "name": "stdout",
     "output_type": "stream",
     "text": [
      "Misclasification rate for test set:       0.018 +- 0.017 (+-: std from cv)\n",
      "Precision: 1.000\n",
      "Recall: 0.952\n"
     ]
    }
   ],
   "source": [
    "# final model\n",
    "model_logreg_4 = LogisticRegression(penalty='l2', C=1/16) \n",
    "# train with all data from train/cv-set\n",
    "model_logreg_4.fit(X_train_cv, y_train_cv)\n",
    "# prediction for unseen test set\n",
    "y_pred_test = model_logreg_4.predict(X_test)\n",
    "# print results\n",
    "print ('Misclasification rate for test set:      ',\n",
    "       \"{0:.3f}\".format(1 - accuracy_score(y_test, y_pred_test)),\n",
    "       '+-', \"{0:.3f}\".format(cv_all_std[3]), '(+-: std from cv)')\n",
    "print (\"Precision:\", \"{0:.3f}\".format(precision_score(y_test, y_pred_test)))\n",
    "print (\"Recall:\", \"{0:.3f}\".format(recall_score(y_test, y_pred_test)))"
   ]
  },
  {
   "cell_type": "markdown",
   "metadata": {},
   "source": [
    "### Evaluation of Final Model"
   ]
  },
  {
   "cell_type": "markdown",
   "metadata": {},
   "source": [
    "The misclassification rate for the untouched test set is 0.018 which is close to the cv-score of 0.017. So the model mispredicts only about 2% of the target data. In other words, accuracy of our model is 98%.\n",
    "\n",
    "Other performance metrics:<br>\n",
    "Precision (correctly predicted M)/(all predicted as M) is 1 (all predicted M were really M).<br>\n",
    "Recall (correctly predicted M)/(all M) is 0.95 (95% of class M were correctly labeled)."
   ]
  },
  {
   "cell_type": "markdown",
   "metadata": {},
   "source": [
    "# Conclusions"
   ]
  },
  {
   "cell_type": "markdown",
   "metadata": {},
   "source": [
    "Many of the features in this dataset show an easy-to-capture and strong relation to the target (see step 2, step 3). Non-linearity of features, feature-feature relations, and noise only play a minor role for predicting the target (see step 4).\n",
    "For these reasons, it is possible to predict the target with a small misclassification rate of about 2% by means of a strongly regularized logistic regression model.\n"
   ]
  },
  {
   "cell_type": "markdown",
   "metadata": {},
   "source": [
    "### Possible Strategies for Further Improving the Model"
   ]
  },
  {
   "cell_type": "markdown",
   "metadata": {},
   "source": [
    "<b>Technical Options:</b><br>\n",
    "1. There is a lot of redundant information among the different features (see Feature-Feature-Relations in step 3). Stepwise feature selection or PCA could be used to eliminate this redundancy and the degree of freedom of the model. This would allow using weaker regularization, which, in turn, could reduce the model bias for the given model variance.<br>\n",
    "2. A more complex model (e.g. adding higher-order terms to logistic regression model or gradient boosted trees) could be able to slightly better capture variations around the decision boundary. However, such a model would require even stronger regularization to avoid overfitting.\n",
    "\n",
    "<b>Requirement: More Data!</b>\n",
    "\n",
    "Variance of the final model is in the same order of magnitude as the misclassification rate. So judging if a model adjustment according to points 1 or 2 really means an improvement will be challenging. For this reason, more data would be needed first for reducing model variance and for becoming able judging further minor model improvements."
   ]
  },
  {
   "cell_type": "markdown",
   "metadata": {},
   "source": [
    "### What We Learned"
   ]
  },
  {
   "cell_type": "markdown",
   "metadata": {},
   "source": [
    "This technical data set exploration gives an orientation regarding data quality, data distribution, predictive power of individual features, correlation among different features and overall data structure of the WDBC data set.\n",
    "\n",
    "Based on this information, we have been able to rule out a number of typical pitfalls often deteriorating model performance and  to select a promising easy-to-communicate classification model.\n",
    "\n",
    "Maybe most importantly, we understand why our model is performing well and what effort (getting more data in this case) would be needed to improve the model further. This provides a valuable basis for estimating costs for further improvements and deciding about next steps."
   ]
  }
 ],
 "metadata": {
  "kernelspec": {
   "display_name": "Python 3",
   "language": "python",
   "name": "python3"
  },
  "language_info": {
   "codemirror_mode": {
    "name": "ipython",
    "version": 3
   },
   "file_extension": ".py",
   "mimetype": "text/x-python",
   "name": "python",
   "nbconvert_exporter": "python",
   "pygments_lexer": "ipython3",
   "version": "3.6.1"
  }
 },
 "nbformat": 4,
 "nbformat_minor": 2
}
